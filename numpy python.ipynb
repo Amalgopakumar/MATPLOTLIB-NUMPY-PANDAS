{
 "cells": [
  {
   "cell_type": "markdown",
   "id": "1c25919a-886e-499f-abe3-29610661a6cd",
   "metadata": {},
   "source": [
    "##Aggregation"
   ]
  },
  {
   "cell_type": "markdown",
   "id": "532b925f-2454-47da-9210-eb2173f31388",
   "metadata": {},
   "source": [
    "Aggregation = performning the same operation on a number of things"
   ]
  },
  {
   "cell_type": "code",
   "execution_count": 2,
   "id": "9e001d97-7df0-46f1-9bde-04f7d9051cec",
   "metadata": {},
   "outputs": [
    {
     "data": {
      "text/plain": [
       "[1, 2, 3, 4, 5]"
      ]
     },
     "execution_count": 2,
     "metadata": {},
     "output_type": "execute_result"
    }
   ],
   "source": [
    "listy_list = [1, 2, 3, 4, 5]\n",
    "listy_list"
   ]
  },
  {
   "cell_type": "code",
   "execution_count": 3,
   "id": "946acb9a-657c-4c27-97dd-d559cb7eadee",
   "metadata": {},
   "outputs": [
    {
     "data": {
      "text/plain": [
       "15"
      ]
     },
     "execution_count": 3,
     "metadata": {},
     "output_type": "execute_result"
    }
   ],
   "source": [
    "sum(listy_list)"
   ]
  },
  {
   "cell_type": "code",
   "execution_count": 4,
   "id": "50265434-8415-4e6f-9413-258c2da44f5d",
   "metadata": {},
   "outputs": [
    {
     "data": {
      "text/plain": [
       "5"
      ]
     },
     "execution_count": 4,
     "metadata": {},
     "output_type": "execute_result"
    }
   ],
   "source": [
    "max(listy_list)"
   ]
  },
  {
   "cell_type": "code",
   "execution_count": 2,
   "id": "ca6a1fdc-3d71-4488-8d0d-efe73d0d1885",
   "metadata": {},
   "outputs": [
    {
     "data": {
      "text/plain": [
       "array([1, 2, 3, 4, 5])"
      ]
     },
     "execution_count": 2,
     "metadata": {},
     "output_type": "execute_result"
    }
   ],
   "source": [
    "import numpy as np\n",
    "a1 = np.array([1, 2, 3, 4, 5])\n",
    "a1"
   ]
  },
  {
   "cell_type": "code",
   "execution_count": 6,
   "id": "0edb4bcf-0d97-4084-b0ec-6dee543a8da1",
   "metadata": {},
   "outputs": [
    {
     "data": {
      "text/plain": [
       "numpy.ndarray"
      ]
     },
     "execution_count": 6,
     "metadata": {},
     "output_type": "execute_result"
    }
   ],
   "source": [
    "type(a1)"
   ]
  },
  {
   "cell_type": "markdown",
   "id": "040e285f-2d3a-420e-ac70-0277130fd031",
   "metadata": {},
   "source": [
    "## `sum()` and `np.sum()` difference between python sum and np sum"
   ]
  },
  {
   "cell_type": "code",
   "execution_count": 15,
   "id": "1aeaac34-3954-47f5-a6a8-821830e2685b",
   "metadata": {},
   "outputs": [
    {
     "data": {
      "text/plain": [
       "10000"
      ]
     },
     "execution_count": 15,
     "metadata": {},
     "output_type": "execute_result"
    }
   ],
   "source": [
    "massive_array = np.random.random(10000)\n",
    "massive_array.size"
   ]
  },
  {
   "cell_type": "code",
   "execution_count": 16,
   "id": "c525b6f2-2d60-4dcf-8e58-4ad0cb2a1cc0",
   "metadata": {},
   "outputs": [
    {
     "data": {
      "text/plain": [
       "array([2.79067186e-02, 4.75371958e-02, 9.18005017e-01, 7.47773342e-01,\n",
       "       7.40636427e-01, 3.04286694e-01, 3.18100748e-01, 9.33998356e-04,\n",
       "       6.12414647e-01, 9.59985287e-01, 8.00960968e-01, 8.15488503e-01,\n",
       "       6.51659698e-01, 1.49829338e-01, 9.69178991e-01, 7.53004547e-01,\n",
       "       3.18579800e-01, 7.68057379e-01, 3.24662957e-01, 4.19507360e-01])"
      ]
     },
     "execution_count": 16,
     "metadata": {},
     "output_type": "execute_result"
    }
   ],
   "source": [
    "massive_array[:20]"
   ]
  },
  {
   "cell_type": "code",
   "execution_count": 17,
   "id": "b05bf898-2002-4f60-b364-01b9a406081c",
   "metadata": {},
   "outputs": [
    {
     "name": "stdout",
     "output_type": "stream",
     "text": [
      "713 μs ± 38.7 μs per loop (mean ± std. dev. of 7 runs, 1,000 loops each)\n",
      "5.64 μs ± 358 ns per loop (mean ± std. dev. of 7 runs, 100,000 loops each)\n"
     ]
    }
   ],
   "source": [
    "%timeit sum(massive_array)\n",
    "%timeit np.sum(massive_array)"
   ]
  },
  {
   "cell_type": "code",
   "execution_count": 3,
   "id": "c8008d4b-0691-4497-8048-b69e3f233f91",
   "metadata": {},
   "outputs": [
    {
     "data": {
      "text/plain": [
       "array([[1, 2, 3, 4],\n",
       "       [2, 3, 4, 5]])"
      ]
     },
     "execution_count": 3,
     "metadata": {},
     "output_type": "execute_result"
    }
   ],
   "source": [
    "a2 = np.array([[1, 2, 3, 4],\n",
    "             [2, 3, 4, 5]])\n",
    "a2"
   ]
  },
  {
   "cell_type": "code",
   "execution_count": 22,
   "id": "7d8b7353-7ce0-4286-9086-9f08ed96432c",
   "metadata": {},
   "outputs": [
    {
     "data": {
      "text/plain": [
       "np.float64(3.0)"
      ]
     },
     "execution_count": 22,
     "metadata": {},
     "output_type": "execute_result"
    }
   ],
   "source": [
    "np. mean(a2)"
   ]
  },
  {
   "cell_type": "code",
   "execution_count": 25,
   "id": "6ff0feb3-1d05-4d6e-94ff-dee96cd2baed",
   "metadata": {},
   "outputs": [
    {
     "data": {
      "text/plain": [
       "np.int64(5)"
      ]
     },
     "execution_count": 25,
     "metadata": {},
     "output_type": "execute_result"
    }
   ],
   "source": [
    "np.max(a2)"
   ]
  },
  {
   "cell_type": "code",
   "execution_count": 26,
   "id": "6785f33f-332d-4919-986e-b6db09ddb0b0",
   "metadata": {},
   "outputs": [
    {
     "data": {
      "text/plain": [
       "np.float64(1.224744871391589)"
      ]
     },
     "execution_count": 26,
     "metadata": {},
     "output_type": "execute_result"
    }
   ],
   "source": [
    "np.std(a2)"
   ]
  },
  {
   "cell_type": "code",
   "execution_count": 27,
   "id": "00f0c0f3-beea-40fe-95c7-f3cb188d5921",
   "metadata": {},
   "outputs": [
    {
     "data": {
      "text/plain": [
       "np.float64(2.0)"
      ]
     },
     "execution_count": 27,
     "metadata": {},
     "output_type": "execute_result"
    }
   ],
   "source": [
    "np.var(a1)"
   ]
  },
  {
   "cell_type": "code",
   "execution_count": 28,
   "id": "5934c525-ccd8-481e-b88e-8d64eccb5ca9",
   "metadata": {},
   "outputs": [
    {
     "data": {
      "text/plain": [
       "np.float64(3810000.0)"
      ]
     },
     "execution_count": 28,
     "metadata": {},
     "output_type": "execute_result"
    }
   ],
   "source": [
    "high_var = np.array([100, 200, 500, 1000, 4000, 5000])\n",
    "np.var(high_var)"
   ]
  },
  {
   "cell_type": "code",
   "execution_count": 36,
   "id": "42161d0d-d128-4c03-9e6f-e34b7311d099",
   "metadata": {},
   "outputs": [
    {
     "data": {
      "image/png": "[encoded data removed]",
      "text/plain": [
       "<Figure size 640x480 with 1 Axes>"
      ]
     },
     "metadata": {},
     "output_type": "display_data"
    }
   ],
   "source": [
    "import matplotlib.pyplot as plt\n",
    "plt.hist(high_var)\n",
    "plt.show()"
   ]
  },
  {
   "cell_type": "code",
   "execution_count": 9,
   "id": "a18005ad-3ad2-4459-86bf-313d27fccb58",
   "metadata": {},
   "outputs": [
    {
     "data": {
      "text/plain": [
       "array([[1, 2, 3, 4],\n",
       "       [2, 3, 4, 5]])"
      ]
     },
     "execution_count": 9,
     "metadata": {},
     "output_type": "execute_result"
    }
   ],
   "source": [
    "a2\n"
   ]
  },
  {
   "cell_type": "code",
   "execution_count": 19,
   "id": "14ede414-3988-4d9d-886b-7dc98c265db3",
   "metadata": {},
   "outputs": [
    {
     "data": {
      "text/plain": [
       "array([[[1, 2],\n",
       "        [3, 4]],\n",
       "\n",
       "       [[2, 3],\n",
       "        [4, 5]]])"
      ]
     },
     "execution_count": 19,
     "metadata": {},
     "output_type": "execute_result"
    }
   ],
   "source": [
    "a2_reshaped = a2.reshape(2, 2, 2)\n",
    "a2_reshaped"
   ]
  },
  {
   "cell_type": "code",
   "execution_count": 21,
   "id": "77d0d408-9f22-4317-a661-fe22de284da7",
   "metadata": {},
   "outputs": [
    {
     "data": {
      "text/plain": [
       "array([[[[[ 0,  1],\n",
       "          [ 2,  3]],\n",
       "\n",
       "         [[ 4,  5],\n",
       "          [ 6,  7]]],\n",
       "\n",
       "\n",
       "        [[[ 8,  9],\n",
       "          [10, 11]],\n",
       "\n",
       "         [[12, 13],\n",
       "          [14, 15]]]],\n",
       "\n",
       "\n",
       "\n",
       "       [[[[16, 17],\n",
       "          [18, 19]],\n",
       "\n",
       "         [[20, 21],\n",
       "          [22, 23]]],\n",
       "\n",
       "\n",
       "        [[[24, 25],\n",
       "          [26, 27]],\n",
       "\n",
       "         [[28, 29],\n",
       "          [30, 31]]]]])"
      ]
     },
     "execution_count": 21,
     "metadata": {},
     "output_type": "execute_result"
    }
   ],
   "source": [
    "# reshaping broadcasting\n",
    "#Yes — exactly! ✅ Broadcasting is automatic in NumPy.\n",
    "#Yes — exactly! In NumPy (and in most programming languages),\n",
    "#the rightmost dimension is the innermost level, and the leftmost dimension is the outermost.\n",
    "n = np.arange(32) #range of values\n",
    "n.reshape(2,2,2,2,2)"
   ]
  },
  {
   "cell_type": "code",
   "execution_count": 25,
   "id": "1eb716de-d827-4e4a-bd34-e7131f197d45",
   "metadata": {},
   "outputs": [
    {
     "data": {
      "text/plain": [
       "array([[[1., 1., 1., 1., 1., 1.]],\n",
       "\n",
       "       [[1., 1., 1., 1., 1., 1.]]])"
      ]
     },
     "execution_count": 25,
     "metadata": {},
     "output_type": "execute_result"
    }
   ],
   "source": [
    "ones = np.ones(shape = (2,1,6))\n",
    "ones"
   ]
  },
  {
   "cell_type": "code",
   "execution_count": 28,
   "id": "669fb399-97b6-492f-a10e-68129956a17a",
   "metadata": {},
   "outputs": [
    {
     "data": {
      "text/plain": [
       "(2, 4)"
      ]
     },
     "execution_count": 28,
     "metadata": {},
     "output_type": "execute_result"
    }
   ],
   "source": [
    "a2\n",
    "a2.shape"
   ]
  },
  {
   "cell_type": "code",
   "execution_count": 33,
   "id": "cfd7927f-0d88-4624-85f2-755c5090ec2f",
   "metadata": {},
   "outputs": [
    {
     "data": {
      "text/plain": [
       "array([[[1., 1., 1., 1., 1., 1.],\n",
       "        [2., 2., 2., 2., 2., 2.],\n",
       "        [3., 3., 3., 3., 3., 3.],\n",
       "        [4., 4., 4., 4., 4., 4.]],\n",
       "\n",
       "       [[2., 2., 2., 2., 2., 2.],\n",
       "        [3., 3., 3., 3., 3., 3.],\n",
       "        [4., 4., 4., 4., 4., 4.],\n",
       "        [5., 5., 5., 5., 5., 5.]]])"
      ]
     },
     "execution_count": 33,
     "metadata": {},
     "output_type": "execute_result"
    }
   ],
   "source": [
    "c = ones* a2\n",
    "c"
   ]
  },
  {
   "cell_type": "code",
   "execution_count": 32,
   "id": "9e0b18cb-5019-47a7-a456-78c755bea9af",
   "metadata": {},
   "outputs": [
    {
     "data": {
      "text/plain": [
       "array([[[1],\n",
       "        [2],\n",
       "        [3],\n",
       "        [4]],\n",
       "\n",
       "       [[2],\n",
       "        [3],\n",
       "        [4],\n",
       "        [5]]])"
      ]
     },
     "execution_count": 32,
     "metadata": {},
     "output_type": "execute_result"
    }
   ],
   "source": [
    "a2 = a2.reshape(2,4,1)\n",
    "a2"
   ]
  },
  {
   "cell_type": "code",
   "execution_count": 31,
   "id": "ac1a0b3c-3603-4475-86fb-5be667d68dca",
   "metadata": {},
   "outputs": [
    {
     "data": {
      "text/plain": [
       "(2, 4)"
      ]
     },
     "execution_count": 31,
     "metadata": {},
     "output_type": "execute_result"
    }
   ],
   "source": [
    "a2.shape"
   ]
  },
  {
   "cell_type": "code",
   "execution_count": 34,
   "id": "b4c70fd3-a32f-4507-b7d3-9ee5ca52e7fd",
   "metadata": {},
   "outputs": [
    {
     "data": {
      "text/plain": [
       "array([[[1., 1., 1., 1., 1., 1.]],\n",
       "\n",
       "       [[1., 1., 1., 1., 1., 1.]]])"
      ]
     },
     "execution_count": 34,
     "metadata": {},
     "output_type": "execute_result"
    }
   ],
   "source": [
    "#transpose = switch axis \"T\"\n",
    "ones"
   ]
  },
  {
   "cell_type": "code",
   "execution_count": 35,
   "id": "bef464f7-a34b-4f37-92a9-f6801af06ccf",
   "metadata": {},
   "outputs": [
    {
     "data": {
      "text/plain": [
       "array([[[1., 1.],\n",
       "        [1., 1.]],\n",
       "\n",
       "       [[1., 1.],\n",
       "        [1., 1.]],\n",
       "\n",
       "       [[1., 1.],\n",
       "        [1., 1.]]])"
      ]
     },
     "execution_count": 35,
     "metadata": {},
     "output_type": "execute_result"
    }
   ],
   "source": [
    "ones = ones.reshape(3,2,2)\n",
    "ones"
   ]
  },
  {
   "cell_type": "code",
   "execution_count": 38,
   "id": "27559f50-1d38-4adb-8af3-2566781bc710",
   "metadata": {},
   "outputs": [
    {
     "data": {
      "text/plain": [
       "array([[[1., 1., 1.],\n",
       "        [1., 1., 1.]],\n",
       "\n",
       "       [[1., 1., 1.],\n",
       "        [1., 1., 1.]]])"
      ]
     },
     "execution_count": 38,
     "metadata": {},
     "output_type": "execute_result"
    }
   ],
   "source": [
    "ones.T"
   ]
  },
  {
   "cell_type": "markdown",
   "id": "6a2588f9-d3c2-4cc9-8732-407589fe308f",
   "metadata": {
    "jp-MarkdownHeadingCollapsed": true
   },
   "source": [
    "### **Dot product**"
   ]
  },
  {
   "cell_type": "code",
   "execution_count": 3,
   "id": "84b923f7-1ac5-45a3-b2bb-b090ce9bf38e",
   "metadata": {},
   "outputs": [
    {
     "data": {
      "text/plain": [
       "array([[5, 0, 3],\n",
       "       [3, 7, 9],\n",
       "       [3, 5, 2],\n",
       "       [4, 7, 6],\n",
       "       [8, 8, 1]], dtype=int32)"
      ]
     },
     "execution_count": 3,
     "metadata": {},
     "output_type": "execute_result"
    }
   ],
   "source": [
    "#transpose and element-wise multiplication\n",
    "np.random.seed(0)\n",
    "mat1 = np.random.randint(10, size=(5,3))\n",
    "mat2 = np.random.randint(10, size=(5,3))\n",
    "mat1"
   ]
  },
  {
   "cell_type": "code",
   "execution_count": 46,
   "id": "fcc59db6-195e-4261-ac80-ee3a5d6231a2",
   "metadata": {},
   "outputs": [
    {
     "data": {
      "text/plain": [
       "array([[6, 7, 7],\n",
       "       [8, 1, 5],\n",
       "       [9, 8, 9],\n",
       "       [4, 3, 0],\n",
       "       [3, 5, 0]], dtype=int32)"
      ]
     },
     "execution_count": 46,
     "metadata": {},
     "output_type": "execute_result"
    }
   ],
   "source": [
    "mat2"
   ]
  },
  {
   "cell_type": "code",
   "execution_count": 48,
   "id": "2ee40a08-7560-43c9-953b-3d57cacb46c6",
   "metadata": {},
   "outputs": [
    {
     "data": {
      "text/plain": [
       "array([[ 51,  55,  72,  20,  15],\n",
       "       [130,  76, 164,  33,  44],\n",
       "       [ 67,  39,  85,  27,  34],\n",
       "       [115,  69, 146,  37,  47],\n",
       "       [111,  77, 145,  56,  64]], dtype=int32)"
      ]
     },
     "execution_count": 48,
     "metadata": {},
     "output_type": "execute_result"
    }
   ],
   "source": [
    "mat3 = np.dot(mat1, mat2.T)\n",
    "mat3"
   ]
  },
  {
   "cell_type": "markdown",
   "id": "cb0473f8-5a82-48ca-a123-b40f452096e4",
   "metadata": {
    "jp-MarkdownHeadingCollapsed": true
   },
   "source": [
    "## comparison_opr"
   ]
  },
  {
   "cell_type": "code",
   "execution_count": 4,
   "id": "d301afb5-1b98-4d2b-8d0c-f80bc933831e",
   "metadata": {},
   "outputs": [
    {
     "data": {
      "text/plain": [
       "array([[5, 0, 3],\n",
       "       [3, 7, 9],\n",
       "       [3, 5, 2],\n",
       "       [4, 7, 6],\n",
       "       [8, 8, 1]], dtype=int32)"
      ]
     },
     "execution_count": 4,
     "metadata": {},
     "output_type": "execute_result"
    }
   ],
   "source": [
    "mat1"
   ]
  },
  {
   "cell_type": "code",
   "execution_count": 5,
   "id": "787a4dee-9e21-40f6-badd-d4b237246531",
   "metadata": {},
   "outputs": [
    {
     "data": {
      "text/plain": [
       "array([[6, 7, 7],\n",
       "       [8, 1, 5],\n",
       "       [9, 8, 9],\n",
       "       [4, 3, 0],\n",
       "       [3, 5, 0]], dtype=int32)"
      ]
     },
     "execution_count": 5,
     "metadata": {},
     "output_type": "execute_result"
    }
   ],
   "source": [
    "mat2"
   ]
  },
  {
   "cell_type": "code",
   "execution_count": 6,
   "id": "da7ccf81-40a2-4ff4-b4c7-474fd3983b43",
   "metadata": {},
   "outputs": [
    {
     "data": {
      "text/plain": [
       "array([[False, False, False],\n",
       "       [False,  True,  True],\n",
       "       [False, False, False],\n",
       "       [False,  True,  True],\n",
       "       [ True,  True,  True]])"
      ]
     },
     "execution_count": 6,
     "metadata": {},
     "output_type": "execute_result"
    }
   ],
   "source": [
    "mat1 > mat2"
   ]
  },
  {
   "cell_type": "code",
   "execution_count": 7,
   "id": "9806ca75-4396-4735-9bac-b50b8e0e6e60",
   "metadata": {},
   "outputs": [
    {
     "data": {
      "text/plain": [
       "array([[False, False, False],\n",
       "       [False, False, False],\n",
       "       [False, False, False],\n",
       "       [ True, False, False],\n",
       "       [False, False, False]])"
      ]
     },
     "execution_count": 7,
     "metadata": {},
     "output_type": "execute_result"
    }
   ],
   "source": [
    "mat1 == mat2"
   ]
  },
  {
   "cell_type": "code",
   "execution_count": 11,
   "id": "ed0d3466-6f42-4aa0-b2ac-d73b47ccb1b0",
   "metadata": {},
   "outputs": [
    {
     "data": {
      "text/plain": [
       "array([[False, False, False],\n",
       "       [False, False, False],\n",
       "       [False, False, False],\n",
       "       [ True, False, False],\n",
       "       [False, False, False]])"
      ]
     },
     "execution_count": 11,
     "metadata": {},
     "output_type": "execute_result"
    }
   ],
   "source": [
    "np.equal(mat1 ,mat2)"
   ]
  },
  {
   "cell_type": "code",
   "execution_count": 12,
   "id": "987a75d5-ab0c-49c8-8159-c8784ba53ff3",
   "metadata": {},
   "outputs": [
    {
     "data": {
      "text/plain": [
       "array([[False, False, False],\n",
       "       [False,  True,  True],\n",
       "       [False, False, False],\n",
       "       [False,  True,  True],\n",
       "       [ True,  True,  True]])"
      ]
     },
     "execution_count": 12,
     "metadata": {},
     "output_type": "execute_result"
    }
   ],
   "source": [
    "np.greater(mat1, mat2)"
   ]
  },
  {
   "cell_type": "markdown",
   "id": "75a74a99-aa23-4389-ae10-db9c58a2ea11",
   "metadata": {
    "jp-MarkdownHeadingCollapsed": true
   },
   "source": [
    "## Sorting"
   ]
  },
  {
   "cell_type": "code",
   "execution_count": 13,
   "id": "d10245bb-0706-436e-b201-ff0cd1dcd0bb",
   "metadata": {},
   "outputs": [
    {
     "data": {
      "text/plain": [
       "array([[5, 0, 3],\n",
       "       [3, 7, 9],\n",
       "       [3, 5, 2],\n",
       "       [4, 7, 6],\n",
       "       [8, 8, 1]], dtype=int32)"
      ]
     },
     "execution_count": 13,
     "metadata": {},
     "output_type": "execute_result"
    }
   ],
   "source": [
    "mat1"
   ]
  },
  {
   "cell_type": "code",
   "execution_count": 19,
   "id": "fb3b77e7-f54b-43fa-a176-214c6f3fb70e",
   "metadata": {},
   "outputs": [],
   "source": [
    "mat1 = mat1.reshape(3,5)"
   ]
  },
  {
   "cell_type": "code",
   "execution_count": 20,
   "id": "e10f2c21-a3af-4ec3-8a2d-81462d483757",
   "metadata": {},
   "outputs": [
    {
     "data": {
      "text/plain": [
       "array([[5, 0, 3, 3, 7],\n",
       "       [9, 3, 5, 2, 4],\n",
       "       [7, 6, 8, 8, 1]], dtype=int32)"
      ]
     },
     "execution_count": 20,
     "metadata": {},
     "output_type": "execute_result"
    }
   ],
   "source": [
    "mat1"
   ]
  },
  {
   "cell_type": "code",
   "execution_count": 21,
   "id": "e9ec7c2f-005b-4166-a883-4cfd4b9bb65e",
   "metadata": {},
   "outputs": [
    {
     "data": {
      "text/plain": [
       "array([[0, 3, 3, 5, 7],\n",
       "       [2, 3, 4, 5, 9],\n",
       "       [1, 6, 7, 8, 8]], dtype=int32)"
      ]
     },
     "execution_count": 21,
     "metadata": {},
     "output_type": "execute_result"
    }
   ],
   "source": [
    "np.sort(mat1)"
   ]
  },
  {
   "cell_type": "code",
   "execution_count": 23,
   "id": "d7f6b9f7-c08e-4b1b-946e-664c08c40c05",
   "metadata": {},
   "outputs": [
    {
     "data": {
      "text/plain": [
       "array([1, 2, 2, 2, 0])"
      ]
     },
     "execution_count": 23,
     "metadata": {},
     "output_type": "execute_result"
    }
   ],
   "source": [
    "np.argmax(mat1, axis = 0)"
   ]
  },
  {
   "cell_type": "code",
   "execution_count": 25,
   "id": "b43a462f-59d2-4814-822a-29398ad847cf",
   "metadata": {},
   "outputs": [
    {
     "data": {
      "text/plain": [
       "array([4, 0, 2])"
      ]
     },
     "execution_count": 25,
     "metadata": {},
     "output_type": "execute_result"
    }
   ],
   "source": [
    "np.argmax(mat1 , axis = 1)"
   ]
  },
  {
   "cell_type": "code",
   "execution_count": 26,
   "id": "bacca776-c5d1-4826-9d21-609a1b14cedf",
   "metadata": {},
   "outputs": [
    {
     "data": {
      "text/plain": [
       "array([[5, 0, 3, 3, 7],\n",
       "       [9, 3, 5, 2, 4],\n",
       "       [7, 6, 8, 8, 1]], dtype=int32)"
      ]
     },
     "execution_count": 26,
     "metadata": {},
     "output_type": "execute_result"
    }
   ],
   "source": [
    "mat1"
   ]
  },
  {
   "cell_type": "markdown",
   "id": "e7f7780d-0fff-499a-89a9-d1e59ddb5ee2",
   "metadata": {},
   "source": [
    "## practical example"
   ]
  },
  {
   "cell_type": "markdown",
   "id": "1af59c26-e2c0-466a-868d-c186eae6fe01",
   "metadata": {},
   "source": [
    "two method to import\n",
    "\n",
    "{\n",
    "    from IPython.display import Image, display\n",
    "\n",
    "display(Image(filename=\"C:/Users/AMAL GOPAKUMAR/Pictures/Days Gone/2025.04.27-13.16.21.png\"))\n",
    "} and\n",
    "\n",
    "{\n",
    "  \"<\"img src=\"download.jpg\" width=\"400\"\">\" (in markdown cell because it is html and should be in same ipynb file)\n",
    "}}"
   ]
  },
  {
   "cell_type": "markdown",
   "id": "e693414e-d38e-4687-aba0-e69da0a2a6c2",
   "metadata": {},
   "source": [
    "<img src=\"download.jpg\" width=\"400\">"
   ]
  },
  {
   "cell_type": "code",
   "execution_count": 42,
   "id": "67537a30-12fb-4bc3-b3fc-12492b28f47b",
   "metadata": {},
   "outputs": [
    {
     "data": {
      "text/plain": [
       "array([[[ 79,  63,   0],\n",
       "        [143, 130,  52],\n",
       "        [160, 146,  73],\n",
       "        ...,\n",
       "        [ 21,  34,   8],\n",
       "        [ 20,  33,   7],\n",
       "        [ 27,  40,  14]],\n",
       "\n",
       "       [[139, 122,  42],\n",
       "        [134, 118,  40],\n",
       "        [133, 119,  44],\n",
       "        ...,\n",
       "        [ 22,  35,   9],\n",
       "        [ 20,  32,   8],\n",
       "        [ 25,  38,  12]],\n",
       "\n",
       "       [[161, 143,  61],\n",
       "        [106,  89,   9],\n",
       "        [112,  96,  19],\n",
       "        ...,\n",
       "        [ 27,  39,  15],\n",
       "        [ 23,  35,  13],\n",
       "        [ 27,  39,  15]],\n",
       "\n",
       "       ...,\n",
       "\n",
       "       [[172, 163, 158],\n",
       "        [173, 164, 159],\n",
       "        [173, 164, 159],\n",
       "        ...,\n",
       "        [182, 171, 165],\n",
       "        [182, 171, 165],\n",
       "        [182, 171, 165]],\n",
       "\n",
       "       [[172, 163, 158],\n",
       "        [172, 163, 158],\n",
       "        [173, 164, 159],\n",
       "        ...,\n",
       "        [182, 171, 165],\n",
       "        [183, 172, 166],\n",
       "        [183, 172, 166]],\n",
       "\n",
       "       [[171, 162, 157],\n",
       "        [172, 163, 158],\n",
       "        [172, 163, 158],\n",
       "        ...,\n",
       "        [179, 168, 162],\n",
       "        [179, 168, 162],\n",
       "        [179, 168, 162]]], shape=(148, 260, 3), dtype=uint8)"
      ]
     },
     "execution_count": 42,
     "metadata": {},
     "output_type": "execute_result"
    }
   ],
   "source": [
    "from matplotlib.image import imread\n",
    "\n",
    "car = imread(\"download.jpg\")\n",
    "car"
   ]
  },
  {
   "cell_type": "code",
   "execution_count": 43,
   "id": "0c7186db-eefc-4f5d-baa4-ae528186f8b4",
   "metadata": {},
   "outputs": [
    {
     "data": {
      "text/plain": [
       "array([[[ 79,  63,   0],\n",
       "        [143, 130,  52],\n",
       "        [160, 146,  73],\n",
       "        ...,\n",
       "        [ 21,  34,   8],\n",
       "        [ 20,  33,   7],\n",
       "        [ 27,  40,  14]],\n",
       "\n",
       "       [[139, 122,  42],\n",
       "        [134, 118,  40],\n",
       "        [133, 119,  44],\n",
       "        ...,\n",
       "        [ 22,  35,   9],\n",
       "        [ 20,  32,   8],\n",
       "        [ 25,  38,  12]]], shape=(2, 260, 3), dtype=uint8)"
      ]
     },
     "execution_count": 43,
     "metadata": {},
     "output_type": "execute_result"
    }
   ],
   "source": [
    "car[:2]"
   ]
  },
  {
   "cell_type": "code",
   "execution_count": null,
   "id": "bf8ce96d-0e58-44df-a35f-053ec490ae55",
   "metadata": {},
   "outputs": [],
   "source": []
  }
 ],
 "metadata": {
  "kernelspec": {
   "display_name": "Python 3 (ipykernel)",
   "language": "python",
   "name": "python3"
  },
  "language_info": {
   "codemirror_mode": {
    "name": "ipython",
    "version": 3
   },
   "file_extension": ".py",
   "mimetype": "text/x-python",
   "name": "python",
   "nbconvert_exporter": "python",
   "pygments_lexer": "ipython3",
   "version": "3.13.1"
  }
 },
 "nbformat": 4,
 "nbformat_minor": 5
}
